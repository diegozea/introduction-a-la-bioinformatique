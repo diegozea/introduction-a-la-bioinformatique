{
 "cells": [
  {
   "cell_type": "markdown",
   "metadata": {},
   "source": [
    "# TME 2 : Prédiction de gènes\n",
    "\n",
    "\n",
    "\n",
    "## Partie 1 : Détection de gènes candidats\n",
    "\n",
    "\n",
    "Le but de cette partie est d’annoter les régions dans le génome qui correspondent à des gènes. Nous allons prendre en compte les différents éléments qui définissent un gène pour pouvoir déterminer les candidats à des régions codantes : phases ouvertes de lecture, propriétés statistiques du code génétique, et comparer les résultats avec l’annotation qui est disponible. \n",
    "Nous nous baserons sur le génome de _Bifidobacterium actinocoloniiforme_ que nous avons commencé à analyser au TME précédent, avec ses annotations et au génome de _Escherichia coli_\n"
   ]
  },
  {
   "cell_type": "code",
   "execution_count": 1,
   "metadata": {},
   "outputs": [],
   "source": [
    "import doctest # C’est pouvoir utiliser doctest.testmod()"
   ]
  },
  {
   "cell_type": "markdown",
   "metadata": {},
   "source": [
    "+ (mise en route) Adapter les commandes du TME précédent pour télécharger le génome de _E. coli_ ainsi que ses annotations\n",
    "\n",
    "ftp://ftp.ncbi.nlm.nih.gov/genomes/all/GCF/000/026/345/GCF_000026345.1_ASM2634v1/GCF_000026345.1_ASM2634v1_genomic.fna.gz\n",
    "\n",
    "ftp://ftp.ncbi.nlm.nih.gov/genomes/all/GCF/000/026/345/GCF_000026345.1_ASM2634v1/GCF_000026345.1_ASM2634v1_feature_table.txt.gz\n"
   ]
  },
  {
   "cell_type": "code",
   "execution_count": 2,
   "metadata": {},
   "outputs": [],
   "source": [
    "# Dictionnaire codons -> acides aminés. Les codons stops sont représentés\n",
    "# avec le caractère \"*\"\n",
    "CODEGENETIQUE = {\n",
    "    \"TTT\": \"F\",\n",
    "    \"TTC\": \"F\",\n",
    "    \"TTA\": \"L\",\n",
    "    \"TTG\": \"L\",\n",
    "    \"TCT\": \"S\",\n",
    "    \"TCC\": \"S\",\n",
    "    \"TCA\": \"S\",\n",
    "    \"TCG\": \"S\",\n",
    "    \"TAT\": \"Y\",\n",
    "    \"TAC\": \"Y\",\n",
    "    \"TAA\": \"*\",\n",
    "    \"TAG\": \"*\",\n",
    "    \"TGT\": \"C\",\n",
    "    \"TGC\": \"C\",\n",
    "    \"TGA\": \"*\",\n",
    "    \"TGG\": \"W\",\n",
    "    \"CTT\": \"L\",\n",
    "    \"CTC\": \"L\",\n",
    "    \"CTA\": \"L\",\n",
    "    \"CTG\": \"L\",\n",
    "    \"CCT\": \"P\",\n",
    "    \"CCC\": \"P\",\n",
    "    \"CCA\": \"P\",\n",
    "    \"CCG\": \"P\",\n",
    "    \"CAT\": \"H\",\n",
    "    \"CAC\": \"H\",\n",
    "    \"CAA\": \"Q\",\n",
    "    \"CAG\": \"Q\",\n",
    "    \"CGT\": \"R\",\n",
    "    \"CGC\": \"R\",\n",
    "    \"CGA\": \"R\",\n",
    "    \"CGG\": \"R\",\n",
    "    \"ATT\": \"I\",\n",
    "    \"ATC\": \"I\",\n",
    "    \"ATA\": \"I\",\n",
    "    \"ATG\": \"M\",\n",
    "    \"ACT\": \"T\",\n",
    "    \"ACC\": \"T\",\n",
    "    \"ACA\": \"T\",\n",
    "    \"ACG\": \"T\",\n",
    "    \"AAT\": \"N\",\n",
    "    \"AAC\": \"N\",\n",
    "    \"AAA\": \"K\",\n",
    "    \"AAG\": \"K\",\n",
    "    \"AGT\": \"S\",\n",
    "    \"AGC\": \"S\",\n",
    "    \"AGA\": \"R\",\n",
    "    \"AGG\": \"R\",\n",
    "    \"GTT\": \"V\",\n",
    "    \"GTC\": \"V\",\n",
    "    \"GTA\": \"V\",\n",
    "    \"GTG\": \"V\",\n",
    "    \"GCT\": \"A\",\n",
    "    \"GCC\": \"A\",\n",
    "    \"GCA\": \"A\",\n",
    "    \"GCG\": \"A\",\n",
    "    \"GAT\": \"D\",\n",
    "    \"GAC\": \"D\",\n",
    "    \"GAA\": \"E\",\n",
    "    \"GAG\": \"E\",\n",
    "    \"GGT\": \"G\",\n",
    "    \"GGC\": \"G\",\n",
    "    \"GGA\": \"G\",\n",
    "    \"GGG\": \"G\"\n",
    "}\n",
    "\n",
    "# Utiliser les sequences TESTSEQ et TESTSEQCLEAN pour tester vos fonctions\n",
    "TESTSEQ = \"ATGAAACGCATTAGCMMCACCATTACCACCACCATCACCATTACCACAGKTAACGGTGCGGGCTGA\"\n",
    "TESTSEQCLEAN = \"ATGAAACGCATTAGCACCACCATTACCACCACCATCACCATTACCACAGGTAACGGTGCGGGCTGA\""
   ]
  },
  {
   "cell_type": "markdown",
   "metadata": {},
   "source": [
    "### A) Annotation des phases ouvertes de lecture et traduction en séquence protéique\n",
    "\n",
    "<b>Question 1)</b> Parfois dans les génomes (représentés par des fichiers numériques), nous trouvons des nucléotides qui n'ont pas été correctement identifiés par la machine de séquençage. Certains instruments nous restreignent les possibilités à un sous-ensemble de nucléotides. Ecrire une fonction `remplace_non_identifies` qui remplace les nucléotides non identifiés par une des possibilités listées ci-dessous de façon aléatoire.<br>\n",
    "\n",
    "R = G,A (purine)<br>\n",
    "Y = T,C (pyrimidine)<br>\n",
    "K = G,T (céto)<br>\n",
    "M = A,C (amino)<br>\n",
    "S = G,C (obligations solides)<br>\n",
    "W = A,T (Les liaisons faibles)<br>\n",
    "B = G,T,C (tous sauf A)<br>\n",
    "D = G,A,T (tous sauf C)<br>\n",
    "H = A,C,T (tous sauf G)<br>\n",
    "V = G,C,A (tous sauf T)<br>\n",
    "N = A,G,C,T (any)<br>\n",
    "X = A,G,C,T (any)<br>\n",
    "\n"
   ]
  },
  {
   "cell_type": "code",
   "execution_count": 3,
   "metadata": {},
   "outputs": [
    {
     "name": "stdout",
     "output_type": "stream",
     "text": [
      "**********************************************************************\n",
      "File \"__main__\", line 7, in __main__.remplace_non_identifies\n",
      "Failed example:\n",
      "    'M' in clean\n",
      "Exception raised:\n",
      "    Traceback (most recent call last):\n",
      "      File \"c:\\users\\diego\\appdata\\local\\programs\\python\\python37-32\\lib\\doctest.py\", line 1329, in __run\n",
      "        compileflags, 1), test.globs)\n",
      "      File \"<doctest __main__.remplace_non_identifies[1]>\", line 1, in <module>\n",
      "        'M' in clean\n",
      "    TypeError: argument of type 'NoneType' is not iterable\n",
      "**********************************************************************\n",
      "File \"__main__\", line 9, in __main__.remplace_non_identifies\n",
      "Failed example:\n",
      "    'K' in clean\n",
      "Exception raised:\n",
      "    Traceback (most recent call last):\n",
      "      File \"c:\\users\\diego\\appdata\\local\\programs\\python\\python37-32\\lib\\doctest.py\", line 1329, in __run\n",
      "        compileflags, 1), test.globs)\n",
      "      File \"<doctest __main__.remplace_non_identifies[2]>\", line 1, in <module>\n",
      "        'K' in clean\n",
      "    TypeError: argument of type 'NoneType' is not iterable\n",
      "**********************************************************************\n",
      "File \"__main__\", line 11, in __main__.remplace_non_identifies\n",
      "Failed example:\n",
      "    len(clean) == 66\n",
      "Exception raised:\n",
      "    Traceback (most recent call last):\n",
      "      File \"c:\\users\\diego\\appdata\\local\\programs\\python\\python37-32\\lib\\doctest.py\", line 1329, in __run\n",
      "        compileflags, 1), test.globs)\n",
      "      File \"<doctest __main__.remplace_non_identifies[3]>\", line 1, in <module>\n",
      "        len(clean) == 66\n",
      "    TypeError: object of type 'NoneType' has no len()\n",
      "**********************************************************************\n",
      "File \"__main__\", line 13, in __main__.remplace_non_identifies\n",
      "Failed example:\n",
      "    isinstance(clean, str)\n",
      "Expected:\n",
      "    True\n",
      "Got:\n",
      "    False\n",
      "**********************************************************************\n",
      "1 items had failures:\n",
      "   4 of   5 in __main__.remplace_non_identifies\n",
      "***Test Failed*** 4 failures.\n"
     ]
    }
   ],
   "source": [
    "# Question 1\n",
    "def remplace_non_identifies(seq):\n",
    "    \"\"\"\n",
    "    Remplace les nucléotides non identifiés par une des possibilités de façon aléatoire.\n",
    "    \n",
    "    >>> clean = remplace_non_identifies('ATGAAACGCATTAGCMMCACCATTACCACCACCATCACCATTACCACAGKTAACGGTGCGGGCTGA')\n",
    "    >>> 'M' in clean\n",
    "    False\n",
    "    >>> 'K' in clean\n",
    "    False\n",
    "    >>> len(clean) == 66\n",
    "    True\n",
    "    >>> isinstance(clean, str)\n",
    "    True\n",
    "    \"\"\"\n",
    "    pass\n",
    "\n",
    "\n",
    "doctest.testmod()\n",
    "\n",
    "remplace_non_identifies(TESTSEQ)"
   ]
  },
  {
   "cell_type": "markdown",
   "metadata": {},
   "source": [
    "<b>Question 2)</b> Ecrire une fonction `listecodon` qui renvoie une liste de codons pour une séquence passée en paramètre. Par exemple, si on passe la séquence ``AACGTGGCA`` comme paramètre votre fonction doit renvoyer ``[‘AAC’, ‘GTG’, ‘GCA’]``. Si la longueur de la séquence n'est pas un multiple de 3 on ne tiendra pas compte des 1 ou 2 nucléotides restant à la fin.\n"
   ]
  },
  {
   "cell_type": "code",
   "execution_count": null,
   "metadata": {},
   "outputs": [],
   "source": [
    "# Question 2\n",
    "def listecodon(seq):\n",
    "    \"\"\"\n",
    "    Renvoie une liste de codons pour une séquence passée en paramètre.\n",
    "    \n",
    "    Si la longueur de la séquence n'est pas un multiple de 3 elle ne tiendra pas \n",
    "    compte des 1 ou 2 nucléotides restant à la fin.\n",
    "    \n",
    "    >>> listecodon('AAACCC')\n",
    "    ['AAA', 'CCC']\n",
    "    >>> listecodon('AAACC')\n",
    "    ['AAA']\n",
    "    >>> listecodon('AAAC')\n",
    "    ['AAA']\n",
    "    \"\"\"\n",
    "    pass\n",
    "\n",
    "\n",
    "doctest.testmod()\n",
    "\n",
    "assert listecodon(TESTSEQCLEAN) == [\n",
    "    'ATG', 'AAA', 'CGC', 'ATT', 'AGC', 'ACC', 'ACC', 'ATT', 'ACC', 'ACC',\n",
    "    'ACC', 'ATC', 'ACC', 'ATT', 'ACC', 'ACA', 'GGT', 'AAC', 'GGT', 'GCG',\n",
    "    'GGC', 'TGA'\n",
    "]"
   ]
  },
  {
   "cell_type": "markdown",
   "metadata": {},
   "source": [
    "<b>Question 3)</b> Ecrire une fonction `reversecompl` qui renvoie le brin complémentaire d’une séquence passée en paramètre. Par exemple, si on passe la séquence ``AACGTGGCA`` comme paramètre votre fonction doit renvoyer ``TGCCACGTT``.\n"
   ]
  },
  {
   "cell_type": "code",
   "execution_count": null,
   "metadata": {},
   "outputs": [],
   "source": [
    "# Question 3\n",
    "def reversecompl(seq):\n",
    "    \"\"\"Renvoie le brin complémentaire d’une séquence.\"\"\"\n",
    "    pass\n",
    "\n",
    "\n",
    "assert reversecompl(\n",
    "    TESTSEQCLEAN\n",
    ") == \"TCAGCCCGCACCGTTACCTGTGGTAATGGTGATGGTGGTGGTAATGGTGGTGCTAATGCGTTTCAT\""
   ]
  },
  {
   "cell_type": "markdown",
   "metadata": {},
   "source": [
    "<b>Question 4)</b> Ecrire une fonction `liste_orfs` qui retourne la liste de tous les cadres ouverts de lectures, c'est à dire les séquence commençant par un des codons start: ``ATG``, ``GTG``, ``TTG`` (``ATG`` est le plus fréquent) et finissant par un des codons stop : ``TAA``, ``TAG``, ``TGA``. Vous renverrez les séquences pour les 6 phases de lecture (3 pour le brin sens et 3 pour le brin complémentaire). Ces séquences sont nommées séquences CDS (pour _CoDing Sequences_ en anglais) et les phases ouvertes de lecture ORFS (pour _Open Reading Frame_). <br>\n",
    "Note 1 : si plusieurs start sont trouvés dans la même phase de lecture qu'un stop et en amont de celui ci, le CDS débute par conventions au start le plus en amont. <br> \n",
    "Note 2 : les CDS peuvent se chevaucher (sur différentes phases et éventuellement sur le brin d'ADN complémentaire).  \n",
    "Note 3 : le function doit aussi garder le brin et la commence et la fin du CDS.\n"
   ]
  },
  {
   "cell_type": "code",
   "execution_count": null,
   "metadata": {},
   "outputs": [],
   "source": [
    "# Question 4\n",
    "def liste_orfs(seq):\n",
    "    \"\"\"\n",
    "    Retourne la liste de tous les cadres ouverts de lectures.\n",
    "    \n",
    "    >>> sorted(liste_orfs('AAATGATGTAATAGTGTTTTGATTAGGGCAT'))\n",
    "    [(-1, 0, 9, 'ATGCCCTAA'), (1, 2, 11, 'ATGATGTAA'), (1, 13, 22, 'GTGTTTTGA')]\n",
    "    \"\"\"\n",
    "    pass"
   ]
  },
  {
   "cell_type": "markdown",
   "metadata": {},
   "source": [
    "<b>Question 5)</b> Développez une fonction `traduit_prot` qui étant donné un gène renvoie la protéine traduite. Utilisez le dictionnaire définit ci dessous."
   ]
  },
  {
   "cell_type": "code",
   "execution_count": null,
   "metadata": {},
   "outputs": [],
   "source": [
    "# Question 5\n",
    "def traduit_prot(seq, codegenetique=CODEGENETIQUE):\n",
    "    \"\"\"Renvoie la protéine traduite, par défaut il utilise CODEGENETIQUE.\"\"\"\n",
    "    pass\n",
    "\n",
    "\n",
    "assert traduit_prot(TESTSEQCLEAN) == \"KRISTTITTTITITTGNGAG*\""
   ]
  }
 ],
 "metadata": {
  "kernelspec": {
   "display_name": "Python 3",
   "language": "python",
   "name": "python3"
  },
  "language_info": {
   "codemirror_mode": {
    "name": "ipython",
    "version": 3
   },
   "file_extension": ".py",
   "mimetype": "text/x-python",
   "name": "python",
   "nbconvert_exporter": "python",
   "pygments_lexer": "ipython3",
   "version": "3.7.0"
  }
 },
 "nbformat": 4,
 "nbformat_minor": 2
}
