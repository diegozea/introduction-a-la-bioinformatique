{
 "cells": [
  {
   "cell_type": "markdown",
   "metadata": {},
   "source": [
    "# TME 3 : Alignement de séquences par paires\n",
    "\n",
    "\n",
    "## Partie 1 : le Dot-Plot\n",
    "\n",
    "Dot plot est un outil graphique pour étudier la similarité entre deux séquences. \n",
    "L'idée de base est simplement de prendre deux séquences (ou deux copies de la même séquence) en abscisse et en ordonnées d'une grille et de marquer d'un point toutes les positions identiques. Les régions similaires entre les deux séquences apparaissent alors visuellement comme des petites diagonales.\n",
    "\n",
    "1\\.\tEcrire une fonction ``dotPlot(sequence1, sequence2)`` qui renvoie une matrice NxM (ou N est la taille de `sequence1` et M la taille de `sequence2`). Chaque case de la matrice aura la valeur 0 ou 1 comme dans l’exemple ci-dessous où la matrice est re-présentée par les cases grises: \n",
    "\n",
    "| \\ | C | C | T | G | C |\n",
    "|---|---|---|---|---|---|\n",
    "|C  | 1 | 1 | 0 | 0 | 1 |\n",
    "|T  | 0 | 0 | 1 | 0 | 0 |\n",
    "|G  | 0 | 0 | 0 | 1 | 0 |\n",
    "|C  | 1 | 1 | 0 | 0 | 1 |\n",
    "\n",
    "2\\.\tEcrire une fonction ``dotPlotWindow(sequence1, sequence2, w)``, où ``w`` est la taille de la fenêtre à considérer, par exemple si `w` = 3 seulement les diagonales qui ont au moins 3 valeurs à 1 seront affichées.\n",
    "\n",
    "| \\ | C | C | T | G | C |\n",
    "|---|---|---|---|---|---|\n",
    "|C  | 0 | 1 | 0 | 0 | 0 |\n",
    "|T  | 0 | 0 | 1 | 0 | 0 |\n",
    "|G  | 0 | 0 | 0 | 1 | 0 |\n",
    "|C  | 0 | 0 | 0 | 0 | 1 |"
   ]
  },
  {
   "cell_type": "code",
   "execution_count": null,
   "metadata": {},
   "outputs": [],
   "source": [
    "def dotPlot(seq1, seq2):\n",
    "    \n",
    "    return dotmat\n",
    "\n",
    "def dotPlotWindow(seq1, seq2, w):\n",
    "    \n",
    "    return dotmatwin"
   ]
  },
  {
   "cell_type": "markdown",
   "metadata": {},
   "source": [
    "3\\. Nous allons utiliser le programme ``dotpath`` qui permet de dessiner un dotplot avec une taille de mot fixée (http://www.bioinformatics.nl/cgi-bin/emboss/dotpath) pour comparer les gènes LacZ de _Escherichia coli_ et _Enterobacter cloacae_. \n",
    "\n",
    "Téléchargez les séquences des gènes lacZ sur le site https://www.ncbi.nlm.nih.gov \n",
    "- _Escherichia coli_\n",
    "Sélectionnez “gene” dans la boite de sélection ou est écrit “all databases”, tapez lacZ[All Fields] AND (\"Escherichia coli\"[Organism])  dans le champ et cliquez sur le bouton `search`. Cliquez sur le gène d'Escherichia coli str. K-12, puis plus en bas dans “Go to nucleotide” cliquez sur FASTA. Sauvegardez le fichier en cliquant sur “Send to”, puis “file”, puis “create File”.\n",
    "\n",
    "- _Enterobacter cloacae_\n",
    "Sélectionnez “gene” dans la boite de selection ou est écrit “all databases”, tapez lacZ[All Fields] AND (\" Enterobacter cloacae\"[Organism]) dans le champ et cliquez dans le bouton `search`. Cliquez sur le gène d'Enterobacter cloacae subsp. cloacae ATCC 13047, puis plus en bas dans “Go to nucleotide” cliquez en FASTA.  Sauvegardez le fichier en cliquant sur “Send to”, puis “file”, puis “create File”.\n",
    "\n",
    "- Dotplot\n",
    "Allez sur le site http://www.bioinformatics.nl/cgi-bin/emboss/dotpath pour charger les deux fichiers qui ont été téléchargés avant. D’abord le fichier de _Escherichia coli_ et puis celui de _Enterobacter cloacae_. \n",
    "    - “Display the overlapping matches?” sélectionnez yes. \n",
    "    - Tapez Escherichia coli Pour “X axis title”  et Enterobacter cloacae pour “Y axis title”.\n",
    "    - Cliquez sur “Run dotpath”. Qu’observez vous? Changez la taille de la fenêtre (Champ Word size) en essayant 8, 10 et 20. Qu’observez vous?\n",
    "\n",
    "\n"
   ]
  },
  {
   "cell_type": "markdown",
   "metadata": {},
   "source": [
    "###  Notes et Réponses aux questions  \n",
    "\n",
    "_____\n",
    "\n",
    "........<br>\n",
    "........<br>\n",
    "........<br>\n",
    "______"
   ]
  },
  {
   "cell_type": "markdown",
   "metadata": {},
   "source": [
    "4\\. Comparons maintantant les gènes et les EST (région codantes) de la rhodopsin chez _Xenopus laevis_. _Xenopus Laevis_ est une grenouille originaire de l'Afrique du Sud et qui a pour habitats les étangs, mares et cours d’eau. La rhodopsin est un gène lié à la perception visuelle de l'animal.\n",
    "\n",
    "- Récuperez le gène de la Rhodopsin de _Xenopus laevis_ sur le site https://www.ncbi.nlm.nih.gov, \n",
    "Sélectionnez “gene” dans la boite de sélection ou est écrit “all databases”, tapez ``Rhodopsin[All Fields] AND \"Xenopus laevis”[Organism]``, cliquez sur le gene `rho.L ID: 380209`, puis plus en bas dans “Go to nucleotide” cliquez sur FASTA et sauvegardez le fichier. \n",
    "\n",
    "- Récuperez l'EST ou l'ARN messager de la Rhodopsin chez Xenopus laevis sur le site du NCBI\n",
    "Sélectionnez “Nucleotides” dans la boite de sélection ou est écrit “all databases”, tapez ``Rhodopsin[All Fields] AND cds[All Fields] AND \"Xenopus laevis”[Organism]``, choissisez le numéro d'accession: ``L07770.1``, cliquez sur FASTA et sauvegardez le fichier. \n",
    "\n",
    "- Dotplot\n",
    "Allez sur le site http://www.bioinformatics.nl/cgi-bin/emboss/dotpath pour chargez les deux fichiers téléchargés précédemment et générez le dotplot de ces séquences. Que constatez-vous? En fait la première séquence correspond à celle du gène de la rhodopsine chez _Xenopus laevis_ et la seconde à celle de son ARNm. Combien le gène compte-t-il d'exons ?\n",
    "\n"
   ]
  },
  {
   "cell_type": "markdown",
   "metadata": {},
   "source": [
    "###  Notes et Réponses aux questions  \n",
    "\n",
    "_____\n",
    "\n",
    "........<br>\n",
    "........<br>\n",
    "........<br>\n",
    "______"
   ]
  },
  {
   "cell_type": "markdown",
   "metadata": {},
   "source": [
    "## Partie 2 : Alignement par Paires\n",
    "\n",
    "1\\. Déroulez à la main l’alignement des deux séquences ``S1=ACTGT`` et ``S2=TCQGT``, en utilisant comme système de score match=1, mismatch= 0 et gap= -1. Cette question vous permet  de bien comprendre l’algorithme de Needleman & Wunsch.\n",
    "\n",
    "2\\. Ecrivez la fonction ``score(r1, r2, gap, match, mismatch)`` qui compare les résidues r1 et r2 et renvoie :\n",
    "  + le cout de match si r1=r2, \n",
    "  + le cout de mismatch si r1!=r2 \n",
    "  + et le cout d’un gap si r1=‘-‘ ou r2=‘-‘\n",
    "\n",
    "\n",
    "3\\. Pour implémenter l’algorithme de Needleman & Wunsch nous allons utiliser une matrice NxM (N est la taille de la sequence1 et M la taille de la sequence2). Chaque cellule de la matrice sera une tuple de deux valeur (s,p), où s est le score et p est une des 3 lettres possibles lettre : d, si on vient de la diagonale, g si on vient de la gauche, h si on vient du haut. Ecrivez la fonction initMatrice(N, M, gap) qui renvoie une matrice de taille NxM avec la première ligne et première colonne initialisé. Par exemple, si le cout de gap est -2, N=5 et M= 4 la fonction doit retourner :\n",
    "\n",
    "|  (0,d)  | (-2,g) | (-4,g) | (-6,g) | (-8,g) |\n",
    "|---------|--------|--------|--------|--------|\n",
    "| (-2,h)  | - | - | - | - |\n",
    "| (-4,h)  | - | - | - | - |\n",
    "| (-6,h)  | - | - | - | - |\n",
    "| (-8,h)  | - | - | - | - |\n",
    "| (-10,h)  | - | - | - | - |"
   ]
  },
  {
   "cell_type": "code",
   "execution_count": null,
   "metadata": {},
   "outputs": [],
   "source": [
    "def score(r1, r2, gap, match, mismatch):\n",
    "    \n",
    "    return s"
   ]
  },
  {
   "cell_type": "markdown",
   "metadata": {},
   "source": [
    "4\\. Ecrivez une fonction `NWS(seq1,seq2, match, mismatch, gap)` pour trouver l’alignement optimal global de deux séquences. Cette fonction prendra en argument les deux séquences `seq1` et `seq2`, un score de match `match`, et des coût de mismatch `mismatch` et de gap `gap`. \n",
    "et renverra la matrice d'alignement remplie\n"
   ]
  },
  {
   "cell_type": "code",
   "execution_count": null,
   "metadata": {},
   "outputs": [],
   "source": [
    "def NWS(seq1, seq2, match, mismatch, gap):\n",
    "    N = len(seq1)\n",
    "    M = len(seq2)\n",
    "    NWMat = initMatrice(N, M, gap)\n",
    "    ###Votre code ici\n",
    "    return NWMat\n",
    "\n"
   ]
  },
  {
   "cell_type": "markdown",
   "metadata": {},
   "source": [
    "5\\.  Lorsque la matrice d’alignement a été calculée, il faut alors trouver le meilleur chemin en parcourant la matrice a reculons en partant du coin inférieur droit. Ecrivez la fonction ``backtrack(matrice)`` qui parcours la matrice et renvoie le meilleur \"chemin\", avec les 3 lettres possibles (d, g, h).\n",
    "\n",
    "La fonction retournera un tuple (score, chemin). Le chemin est une liste de lettres décrivant le parcours effectué dans la matrice pour arriver a la case présente. Comme il y a 3 directions possibles, il y a 3 lettres possibles pour le chemin: \n",
    "  - `d` si on vient de la diagonale, \n",
    "  - `g` si on vient de la gauche, \n",
    "  - `h` si on vient du haut. \n",
    "  \n",
    "\n",
    "Ce chemin nous servira ensuite à écrire l’alignement des deux séquences et on peut l'afficher à l'aide de la fonction ``afficherAlign`` (voir question suivante). Vous devez initialiser la matrice  à l’aide de la fonction ``initMatrice(N, M, gap)`` et remplir chaque case en utilisant l'algorithme NWS, utiliser la fonction ``score(r1, r2, gap, match, mismatch)`` pour obtenir le score de chaque paire de résidus. Pour comprendre l’algorithme à implémenter, il vous est fortement conseille de remplir vous même une matrice d’alignement avec un petit exemple et d’en déduire l’alignement optimal pour tester votre code (question 1)."
   ]
  },
  {
   "cell_type": "code",
   "execution_count": null,
   "metadata": {},
   "outputs": [],
   "source": [
    "def backtrack(matrice):\n",
    "    \n",
    "    return bestchemin"
   ]
  },
  {
   "cell_type": "markdown",
   "metadata": {},
   "source": [
    "6\\. Ecrivez la fonction ``afficherAlign(seq1, seq2, chemin)`` pour affcher l’alignement de deux séquences en représentant les gaps par des tirets comme dans l’exemple \n",
    "\n",
    "``LAFLA-MEE\n",
    "---LALM-E``\n",
    "\n",
    "Cette fonction prend en argument le chemin et les 2 séquences, le chemin est décrit par les lettres `d`, `g` et `h`. \n",
    "\n",
    "Dans l'exemple, avec ``seq1=LAFLAMEE``, et ``seq2=LALME``, on a ``chemin=\"hhhddgdhd\"``. \n",
    "\n",
    "Pour la première séquence, on affiche un gap (’-’) pour chaque `g` chemin, et la lettre sinon. Pour la seconde séquence,  on affiche un gap (’-’) pour chaque `h` dans le chemin, et la lettre sinon.\n",
    " "
   ]
  },
  {
   "cell_type": "code",
   "execution_count": null,
   "metadata": {},
   "outputs": [],
   "source": [
    "def afficherAlign(seq1, seq2, chemin):\n",
    "    \n",
    "    return alignement\n"
   ]
  },
  {
   "cell_type": "markdown",
   "metadata": {},
   "source": [
    "7\\. Ecrivez une fonction ``SWG(seq1,seq2, match, mismatch, gap)`` pour trouver l’alignement local (l’algorithme de Smith, Waterman et Gotoh) de deux séquences. Réutilisez les fonctions que vous avez déjà développées. \n",
    "\n",
    "**Rappel**: dans l’alignement local la matrice est initialisée à zéro et nous cherchons la case avec la valeur de score la plus grande avant de faire le backtrack."
   ]
  },
  {
   "cell_type": "code",
   "execution_count": null,
   "metadata": {},
   "outputs": [],
   "source": [
    "def SWG(seq1,seq2, match, mismatch, gap):\n",
    "    N = len(seq1)\n",
    "    M = len(seq2)\n",
    "    ## il SWGMat est initialisé différement.\n",
    "    ###Votre code ici\n",
    "    return (score, chemin)\n"
   ]
  },
  {
   "cell_type": "markdown",
   "metadata": {},
   "source": [
    "8\\. Toutes les substituions d’un acide aminé par un autre n’ont pas le même effet sur la protéine. Certaines substitutions sont donc plus favorables que d’autres. De plus, tous les acides amines ne sont pas aussi fréquents dans les protéines. C’est pour prendre en compte ces facteurs qu’ont été construites des matrices de substitution. La matrice de substitution BLOSUM62 est téléchargeable a l’adresse : http://www.ncbi.nlm.nih.gov/Class/FieldGuide/BLOSUM62.txt. \n",
    "\n",
    "Ecrire une fonction permettant de lire cette matrice et la stockant dans un dictionnaire dont les clés sont des tuples repré-sentant les paires d’acides amines. Ecrire une nouvelle version de la fonction ``score(r1, r2, gap, match, mismatch, matSub = {})`` prenant aussi en argument une matrice de substitution matSub et prenant en compte ces valeurs dans le calcul de la matrice d’alignement. "
   ]
  },
  {
   "cell_type": "code",
   "execution_count": null,
   "metadata": {},
   "outputs": [],
   "source": [
    "def lireBLOSUM(blosum_file):\n",
    "    matSub = {}\n",
    "    \n",
    "    return matSub\n",
    "\n",
    "def score2(r1, r2, match, mismatch, gap, matSub ={}):\n",
    "    \n",
    "    return s"
   ]
  },
  {
   "cell_type": "markdown",
   "metadata": {},
   "source": [
    "9\\. Comparez les séquences :\n",
    "\n",
    "```\n",
    ">WP_071885240.1 transposase [Enterobacter cloacae]\n",
    "MASVSISCPSCSATDGVVRNGKSTVGHQRYLCSHCRKTWQLQFTYTASQPG\n",
    "THQKIIDMAMNGVGCRATARIMGVGLNTILRHLKNSGRSR\n",
    "\n",
    ">OCC95129.1 transposase [Shigella sonnei]\n",
    "MAVSISCPSATDGVVRNGKSTAGHQRYLCSRKTWQLQFTYTASQPGTHQKDMA\n",
    "MNGVGCRPAPIMGVGLNTLLLNNQGSR\n",
    "```\n",
    "\n",
    "En utilisant les algorithmes :\n",
    "-\tNeedleman & Wunsch, système de score match=1, mismatch= 0 et gap= -1\n",
    "-\tNeedleman & Wunsch, système de score match=2, mismatch= -1 et gap= -2\n",
    "-\tSmith & Waterman, système de score match=1, mismatch= 0 et gap= -1\n",
    "-\tSmith & Waterman, système de score match=2, mismatch= -1 et gap= -2\n",
    "-\tNeedleman & Wunsch, système de score matrices de substitution BLOSUM62\n",
    "-\tSmith & Waterman, système de score matrices de substitution BLOSUM62\n",
    "\n",
    "Que remarquez vous?"
   ]
  },
  {
   "cell_type": "code",
   "execution_count": null,
   "metadata": {},
   "outputs": [],
   "source": [
    "s1 = \"MASVSISCPSCSATDGVVRNGKSTVGHQRYLCSHCRKTWQLQFTYTASQPGTHQKIIDMAMNGVGCRATARIMGVGLNTILRHLKNSGRSR\"\n",
    "s2 = \"MAVSISCPSATDGVVRNGKSTAGHQRYLCSRKTWQLQFTYTASQPGTHQKDMAMNGVGCRPAPIMGVGLNTLLLNNQGSR\"\n",
    "\n",
    "NWS(s1, s2, 1, 0, -1)\n",
    "\n",
    "NWS(s1, s2, 2, -1, -2)\n",
    "\n",
    "SWG(s1, s2, 1, 0, -1)\n",
    "\n",
    "SWG(s1, s2, 2, -1, -2)\n",
    "\n"
   ]
  }
 ],
 "metadata": {
  "kernelspec": {
   "display_name": "Python 3",
   "language": "python",
   "name": "python3"
  },
  "language_info": {
   "codemirror_mode": {
    "name": "ipython",
    "version": 3
   },
   "file_extension": ".py",
   "mimetype": "text/x-python",
   "name": "python",
   "nbconvert_exporter": "python",
   "pygments_lexer": "ipython3",
   "version": "3.7.0"
  }
 },
 "nbformat": 4,
 "nbformat_minor": 2
}
